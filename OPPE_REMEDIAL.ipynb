{
  "nbformat": 4,
  "nbformat_minor": 0,
  "metadata": {
    "colab": {
      "provenance": [],
      "authorship_tag": "ABX9TyMrPz29M9QRFD+7rj1GtJ5J",
      "include_colab_link": true
    },
    "kernelspec": {
      "name": "python3",
      "display_name": "Python 3"
    },
    "language_info": {
      "name": "python"
    }
  },
  "cells": [
    {
      "cell_type": "markdown",
      "metadata": {
        "id": "view-in-github",
        "colab_type": "text"
      },
      "source": [
        "<a href=\"https://colab.research.google.com/github/kshitizkool/Jupyter/blob/main/OPPE_REMEDIAL.ipynb\" target=\"_parent\"><img src=\"https://colab.research.google.com/assets/colab-badge.svg\" alt=\"Open In Colab\"/></a>"
      ]
    },
    {
      "cell_type": "code",
      "execution_count": null,
      "metadata": {
        "id": "BuYXeAvRlHXT"
      },
      "outputs": [],
      "source": [
        "list1=[1,2,3,4]"
      ]
    },
    {
      "cell_type": "code",
      "source": [
        "list1[0]"
      ],
      "metadata": {
        "colab": {
          "base_uri": "https://localhost:8080/"
        },
        "id": "A7SFMtHelUoG",
        "outputId": "6da2aa98-eff9-4f17-a035-dcbdcb5e8018"
      },
      "execution_count": null,
      "outputs": [
        {
          "output_type": "execute_result",
          "data": {
            "text/plain": [
              "1"
            ]
          },
          "metadata": {},
          "execution_count": 3
        }
      ]
    },
    {
      "cell_type": "code",
      "source": [
        "list2=['Ram',2,'900245',23.0]"
      ],
      "metadata": {
        "id": "LbdB9C8klqUz"
      },
      "execution_count": null,
      "outputs": []
    },
    {
      "cell_type": "code",
      "source": [
        "list2[1]"
      ],
      "metadata": {
        "colab": {
          "base_uri": "https://localhost:8080/"
        },
        "id": "sVP1dqKKly5w",
        "outputId": "8dd15123-4db9-4e38-d7c1-fd588451aef5"
      },
      "execution_count": null,
      "outputs": [
        {
          "output_type": "execute_result",
          "data": {
            "text/plain": [
              "2"
            ]
          },
          "metadata": {},
          "execution_count": 5
        }
      ]
    },
    {
      "cell_type": "markdown",
      "source": [
        "## TUPLE"
      ],
      "metadata": {
        "id": "UI5zSsiBl2Tv"
      }
    },
    {
      "cell_type": "code",
      "source": [
        "tuple=(1,)"
      ],
      "metadata": {
        "id": "jDb6Z-z2l6Ng"
      },
      "execution_count": null,
      "outputs": []
    },
    {
      "cell_type": "code",
      "source": [
        "tuple[0]"
      ],
      "metadata": {
        "colab": {
          "base_uri": "https://localhost:8080/"
        },
        "id": "qfj0NGWnl9Tm",
        "outputId": "fba79b1b-b456-475b-b8a0-96e3e81e9f00"
      },
      "execution_count": null,
      "outputs": [
        {
          "output_type": "execute_result",
          "data": {
            "text/plain": [
              "1"
            ]
          },
          "metadata": {},
          "execution_count": 9
        }
      ]
    },
    {
      "cell_type": "code",
      "source": [
        "tuple2=(1,2,3,4)"
      ],
      "metadata": {
        "id": "WFLvlL1QmEbU"
      },
      "execution_count": null,
      "outputs": []
    },
    {
      "cell_type": "code",
      "source": [
        "tuple2[1]"
      ],
      "metadata": {
        "colab": {
          "base_uri": "https://localhost:8080/"
        },
        "id": "tE3czOw-mHtQ",
        "outputId": "829686e8-90c1-49bc-f050-d6f0dd41c580"
      },
      "execution_count": null,
      "outputs": [
        {
          "output_type": "execute_result",
          "data": {
            "text/plain": [
              "2"
            ]
          },
          "metadata": {},
          "execution_count": 11
        }
      ]
    },
    {
      "cell_type": "code",
      "source": [
        "tuple3=('T0001','Amigos','Blue',2)"
      ],
      "metadata": {
        "id": "-VHGH4dgmQfJ"
      },
      "execution_count": null,
      "outputs": []
    },
    {
      "cell_type": "code",
      "source": [
        "tuple3[2]"
      ],
      "metadata": {
        "colab": {
          "base_uri": "https://localhost:8080/",
          "height": 35
        },
        "id": "aLawJ_WxmbjN",
        "outputId": "34a18f20-7ada-43aa-9f79-194568e6b417"
      },
      "execution_count": null,
      "outputs": [
        {
          "output_type": "execute_result",
          "data": {
            "text/plain": [
              "'Blue'"
            ],
            "application/vnd.google.colaboratory.intrinsic+json": {
              "type": "string"
            }
          },
          "metadata": {},
          "execution_count": 13
        }
      ]
    },
    {
      "cell_type": "markdown",
      "source": [
        "## LIST OF TUPLE"
      ],
      "metadata": {
        "id": "g23M4XDMmKQs"
      }
    },
    {
      "cell_type": "code",
      "source": [
        "lot=[('T0001','Amigos','Blue'),('T0002','Thunder','Green'),('T0003','Am','white')]"
      ],
      "metadata": {
        "id": "h4cdqXQjmgZM"
      },
      "execution_count": null,
      "outputs": []
    },
    {
      "cell_type": "code",
      "source": [
        "for i in lot:\n",
        "  d=i[2]\n",
        "  print(d)"
      ],
      "metadata": {
        "colab": {
          "base_uri": "https://localhost:8080/"
        },
        "id": "Qhp7SQyhmxyp",
        "outputId": "f404fa65-b5ea-4ea4-876c-bc77c1098f1b"
      },
      "execution_count": null,
      "outputs": [
        {
          "output_type": "stream",
          "name": "stdout",
          "text": [
            "Blue\n",
            "Green\n",
            "white\n"
          ]
        }
      ]
    },
    {
      "cell_type": "code",
      "source": [
        "for i in lot:\n",
        "  print(i)"
      ],
      "metadata": {
        "colab": {
          "base_uri": "https://localhost:8080/"
        },
        "id": "syu0TXXenFRT",
        "outputId": "45797d5d-5ee8-4b66-e56f-906360d59d93"
      },
      "execution_count": null,
      "outputs": [
        {
          "output_type": "stream",
          "name": "stdout",
          "text": [
            "('T0001', 'Amigos', 'Blue')\n",
            "('T0002', 'Thunder', 'Green')\n",
            "('T0003', 'Am', 'white')\n"
          ]
        }
      ]
    },
    {
      "cell_type": "markdown",
      "source": [
        "# How to open text file and read"
      ],
      "metadata": {
        "id": "uznzSwwHnSUH"
      }
    },
    {
      "cell_type": "code",
      "source": [
        "f=open('team.txt',r)"
      ],
      "metadata": {
        "id": "t_O-Bro_nZl-"
      },
      "execution_count": null,
      "outputs": []
    },
    {
      "cell_type": "code",
      "source": [
        "name=f.read()\n",
        "print(name)"
      ],
      "metadata": {
        "id": "p8wo5r-hneRS"
      },
      "execution_count": null,
      "outputs": []
    },
    {
      "cell_type": "code",
      "source": [
        "d=open('team.txt','r')\n",
        "a=d.read()"
      ],
      "metadata": {
        "id": "IKcrzKLWnlBG"
      },
      "execution_count": null,
      "outputs": []
    },
    {
      "cell_type": "markdown",
      "source": [
        "# CONNECT THE DATABASE\n",
        "\n",
        "\n",
        "*   Create Connection\n",
        "\n",
        "*   Create Cursor\n",
        "\n",
        "*   Execute the query\n",
        "*   Close the cursore\n",
        "\n",
        "\n",
        "*   Close the connection\n",
        "\n"
      ],
      "metadata": {
        "id": "x0H3Ca-OoieF"
      }
    },
    {
      "cell_type": "code",
      "source": [
        "import psycopg2\n",
        "import os\n",
        "import sys\n",
        "\n",
        "database='flis'\n",
        "user='postgres'\n",
        "port='5432'\n",
        "password='password'\n",
        "host='localhost'\n",
        "conn=None\n",
        "try:\n",
        "  conn=psycopg2.connect(database=database,user=user,password=password,host=host,port=port)\n",
        "  print('Database connected succesfully')\n",
        "except(Exception,psycopg2.Databaserror) as error:\n",
        "  print(error)\n",
        "finally:\n",
        "  if conn is not None:\n",
        "    conn.close\n"
      ],
      "metadata": {
        "id": "GJ8JyUvdo6v1"
      },
      "execution_count": null,
      "outputs": []
    },
    {
      "cell_type": "markdown",
      "source": [
        "For the database connection, use the following connection string variables:\n",
        "\n",
        "\n",
        "database = sys.argv[1]\t//name of the database is obtained from the command line argument\n",
        "\n",
        "user = os.environ.get('PGUSER') \n",
        "\n",
        "password = os.environ.get('PGPASSWORD') \n",
        "\n",
        "host = os.environ.get('PGHOST')\n",
        "\n",
        "port = os.environ.get('PGPORT')\n",
        "\n",
        "\n",
        "\n",
        "\n",
        "\n",
        "Problem Statement:\n",
        "\n",
        "## Write a Python program to output the jersey number of the player. Player's name is given in a file named 'player.txt' resides in the same folder as python program file.\n",
        " ![image.png](data:image/png;base64,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)\n",
        "The output of the python program is only jersey number.  \n",
        "For example, if the jersey number of the player is 99. Then output must be 99 only. Note: No spaces.\n",
        "\n"
      ],
      "metadata": {
        "id": "32TwaE2crj18"
      }
    },
    {
      "cell_type": "code",
      "source": [
        "import psycopg2\n",
        "import os\n",
        "import sys\n",
        "\n",
        "f=open('player.txt','r')\n",
        "name=f.read()\n",
        "database=sys.argv[1]\n",
        "user=os.get.environ('PGUSER')\n",
        "password=os.get.environ('PGPASSWORD')\n",
        "host=os.get.environ('PGHOST')\n",
        "port = os.get.environ('PGPORT')\n",
        "\n",
        "conn=None\n",
        "try:\n",
        "  #creating the connection\n",
        "  conn=psycopg2.connect(database=database,user=user,host=host,port=port)\n",
        "  #creating the cursor\n",
        "  cur=conn.cursor()\n",
        "  #execute the qury\n",
        "  cur.execute('select jersey_no from players where name=%s',(name,))\n",
        "  result=cur.fetchall()\n",
        "  for i in result:\n",
        "    d=i[0]\n",
        "    print(d)\n",
        "  cur.close()\n",
        "except(Exception,psycopg2.DatabaseError) as error:\n",
        "  print(error)\n",
        "finally:\n",
        "  if conn is not None:\n",
        "    conn.close()"
      ],
      "metadata": {
        "id": "J17lkt22rqH9"
      },
      "execution_count": null,
      "outputs": []
    },
    {
      "cell_type": "code",
      "source": [
        "# Code 2\n",
        "\n",
        "\n",
        "import os\n",
        "import sys\n",
        "import psycopg2\n",
        "f=open('player.txt','r')\n",
        "name=f.read()\n",
        "database=sys.argv[1]\n",
        "user = os.environ.get('PGUSER') \n",
        "password = os.environ.get('PGPASSWORD') \n",
        "host = os.environ.get('PGHOST')\n",
        "port = os.environ.get('PGPORT')\n",
        "conn=None\n",
        "try:\n",
        "  #creating the connection\n",
        "  conn=psycopg2.connect(database=database,user=user,host=host,port=port)\n",
        "  #creating the cursor\n",
        "  cur=conn.cursor()\n",
        "  #execute the qury\n",
        "  cur.execute('select jersey_no from players where name=%s',(name,))\n",
        "  result=cur.fetchone()[0]\n",
        "  print(result)\n",
        "  cur.close()\n",
        "except(Exception,psycopg2.DatabaseError) as error:\n",
        "  print(error)\n",
        "finally:\n",
        "  if conn is not None:\n",
        "    conn.close()"
      ],
      "metadata": {
        "id": "U4wsZ4Vh0hX6"
      },
      "execution_count": null,
      "outputs": []
    },
    {
      "cell_type": "code",
      "source": [
        "a=\"abc\""
      ],
      "metadata": {
        "id": "GJv39ahIuiZ4"
      },
      "execution_count": null,
      "outputs": []
    },
    {
      "cell_type": "code",
      "source": [
        "type(a)"
      ],
      "metadata": {
        "colab": {
          "base_uri": "https://localhost:8080/"
        },
        "id": "ZO98eejzuk6j",
        "outputId": "3a50af3a-e5e4-40e1-c2a8-2090725cb88a"
      },
      "execution_count": null,
      "outputs": [
        {
          "output_type": "execute_result",
          "data": {
            "text/plain": [
              "str"
            ]
          },
          "metadata": {},
          "execution_count": 26
        }
      ]
    },
    {
      "cell_type": "code",
      "source": [
        "a=(a,)"
      ],
      "metadata": {
        "id": "hCDgcznhumxc"
      },
      "execution_count": null,
      "outputs": []
    },
    {
      "cell_type": "code",
      "source": [
        "type(a)"
      ],
      "metadata": {
        "colab": {
          "base_uri": "https://localhost:8080/"
        },
        "id": "nzROy2gmupgv",
        "outputId": "2bd0a9ea-bebe-4c4e-8313-93799b9231c3"
      },
      "execution_count": null,
      "outputs": [
        {
          "output_type": "execute_result",
          "data": {
            "text/plain": [
              "tuple"
            ]
          },
          "metadata": {},
          "execution_count": 28
        }
      ]
    },
    {
      "cell_type": "code",
      "source": [
        "b=1"
      ],
      "metadata": {
        "id": "8D1fsK_eu2tB"
      },
      "execution_count": 3,
      "outputs": []
    },
    {
      "cell_type": "code",
      "source": [
        "type(b)"
      ],
      "metadata": {
        "colab": {
          "base_uri": "https://localhost:8080/"
        },
        "id": "hBL4N9MVu4tr",
        "outputId": "62b1cd66-24de-4a21-d54f-53cf2fc37ea3"
      },
      "execution_count": 4,
      "outputs": [
        {
          "output_type": "execute_result",
          "data": {
            "text/plain": [
              "int"
            ]
          },
          "metadata": {},
          "execution_count": 4
        }
      ]
    },
    {
      "cell_type": "code",
      "source": [
        "b=(b,)"
      ],
      "metadata": {
        "id": "2IeDv8w9u6qH"
      },
      "execution_count": 5,
      "outputs": []
    },
    {
      "cell_type": "code",
      "source": [
        "type(b)"
      ],
      "metadata": {
        "colab": {
          "base_uri": "https://localhost:8080/"
        },
        "id": "U75cFGvNu8Xy",
        "outputId": "9f433b45-b165-448c-c38a-18b0df854849"
      },
      "execution_count": 6,
      "outputs": [
        {
          "output_type": "execute_result",
          "data": {
            "text/plain": [
              "tuple"
            ]
          },
          "metadata": {},
          "execution_count": 6
        }
      ]
    },
    {
      "cell_type": "markdown",
      "source": [
        "For the database connection, use the following connection string variables:\n",
        "\n",
        "\n",
        "\n",
        "database = sys.argv[1]\t//name of the database is obtained from the command line argument\n",
        "\n",
        "user = os.environ.get('PGUSER') \n",
        "\n",
        "password = os.environ.get('PGPASSWORD') \n",
        "\n",
        "host = os.environ.get('PGHOST')\n",
        "\n",
        "port = os.environ.get('PGPORT')\n",
        "\n",
        "\n",
        "\n",
        "\n",
        "\n",
        "Problem Statement:\n",
        "\n",
        "##Write a Python program to print the roll number of the student. Student's first name is given in a file named 'name.txt' resides in the same folder as python program file.\n",
        "![image.png](data:image/png;base64,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)\n",
        "The output of the python program is only roll number.  \n",
        "For example, if the first name of the student is 'Vikas'. Then output must be CS01 only. Note: No spaces."
      ],
      "metadata": {
        "id": "Y6DS10W_2C2p"
      }
    },
    {
      "cell_type": "code",
      "source": [
        "import os\n",
        "import sys\n",
        "import psycopg2\n",
        "f=open('name.txt','r')\n",
        "name=f.read()\n",
        "database=sys.argv[1]\n",
        "user = os.environ.get('PGUSER') \n",
        "password = os.environ.get('PGPASSWORD') \n",
        "host = os.environ.get('PGHOST')\n",
        "port = os.environ.get('PGPORT')\n",
        "conn=None\n",
        "try:\n",
        "  #creating the connection\n",
        "  conn=psycopg2.connect(database=database,user=user,host=host,port=port)\n",
        "  #creating the cursor\n",
        "  cur=conn.cursor()\n",
        "  #execute the qury\n",
        "  cur.execute(\"select roll_no from students where student_fname=%s\", (name,))\n",
        "  result=cur.fetchall()\n",
        "  for i in result:\n",
        "    d=i[0]\n",
        "    print(d)\n",
        "  cur.close()\n",
        "except(Exception,psycopg2.DatabaseError) as error:\n",
        "  print(error)\n",
        "finally:\n",
        "  if conn is not None:\n",
        "    conn.close()"
      ],
      "metadata": {
        "id": "rGgXHUu228VO"
      },
      "execution_count": null,
      "outputs": []
    }
  ]
}